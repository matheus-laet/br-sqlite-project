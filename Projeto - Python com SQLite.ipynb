{
  "nbformat": 4,
  "nbformat_minor": 0,
  "metadata": {
    "anaconda-cloud": {},
    "kernelspec": {
      "display_name": "Python [conda env:udacity-update]",
      "language": "python",
      "name": "conda-env-udacity-update-py"
    },
    "language_info": {
      "codemirror_mode": {
        "name": "ipython",
        "version": 3
      },
      "file_extension": ".py",
      "mimetype": "text/x-python",
      "name": "python",
      "nbconvert_exporter": "python",
      "pygments_lexer": "ipython3",
      "version": "3.7.7"
    },
    "colab": {
      "name": "Projeto - Python com SQLite.ipynb",
      "provenance": []
    }
  },
  "cells": [
    {
      "cell_type": "markdown",
      "metadata": {
        "id": "qnfxsnOY-aBP"
      },
      "source": [
        "# Awari - Data Science\n",
        "\n",
        "## Projeto - Python com SQLite\n",
        "\n",
        "## 1. Considerações iniciais\n",
        "\n",
        "Para que você assimile melhor os comandos do SQL, preparamos este projeto de Python com SQLite. Neste notebook Jupyter, você irá reforçando alguns conceitos da unidade atual e deverá executar algumas tarefas pelo caminho. Todo o projeto deve ser executado neste Jupyter Notebook. Por fim, se desejar, revise as respostas com o seu mentor.\n",
        "\n",
        "### 1.1. Por que SQLite?\n",
        "O SQLite é uma pequena biblioteca em C que possui um banco de dados SQL embutido. Sem o apoio de um poderoso SGDB (Sistema de Gerenciamento de Banco de Dados) como nas soluções do mercado, o SQLite é ideal para fins de aprendizagem, pois sua instalação é fácil e não requer nenhuma configuração inicial. Deste modo, podemos focar nos comandos do SQL.\n",
        "\n",
        "### 1.2. Prepare seu ambiente\n",
        "Baixe e instale o SQLite antes de começar. Resumidamente, você irá acessar a página de [Downloads](https://www.sqlite.org/download.html) do SQLite e baixar os executáveis para a mesma pasta deste notebook. Caso você encontre dificuldades:\n",
        "\n",
        "- Assista a este [vídeo](https://www.youtube.com/watch?v=VcKKt6OTlJc) para \"instalar\" o SQLite no Windows ou;\n",
        "- Ou siga este [manual](http://www.devfuria.com.br/linux/instalando-sqlite/) para as plataformas Linux.\n",
        "\n",
        "### 1.3. Conjunto de dados\n",
        "\n",
        "O conjunto de dados que iremos utilizar é derivado do [Titanic](https://www.kaggle.com/c/titanic/data). Na verdade, dividimos o conjunto em dois arquivos CSV - [passageiros](passageiros.csv) e [passagens](passagens.csv). Cada um destes arquivo serão inseridos dentro do SQLite como tabelas, onde você executará suas consultas SQL.\n",
        "\n",
        "#### 1.3.1. Descrição do dados\n",
        "\n",
        "No arquivo [passageiros](passageiros.csv), você encontrará:\n",
        "- PassengerId: Id do passageiro\n",
        "- Survived: Se o passageiro sobreviveu ou não. Se 0, então não sobreviveu. Se 1, sobreviveu.\n",
        "- Pclass: Classe em que o passageiro estava viajando. Se 1, então estava na primeira classe e assim por diante.\n",
        "- Name: Nome do passageiro.\n",
        "- Sex: Gênero do passageiro. Masculino ou feminino.\n",
        "- Age: Idade.\n",
        "- Sibsp: número de irmãos / esposas a bordo do navio.\n",
        "- Parch: número de pais / filhos a bordo do navio.\n",
        "\n",
        "E no arquivo [passagens](passagens.csv):\n",
        "- PassengerId: Id do passageiro\n",
        "- Ticket: número do ticket de embarque\n",
        "- Fare: valor pago pelo ticket.\n",
        "- Cabin: cabine do passageiro.\n",
        "- Embarked: porto de embarque do passageiro. C = Cherbourg, Q = Queenstown e S = Southampton\n"
      ]
    },
    {
      "cell_type": "markdown",
      "metadata": {
        "id": "9Xouch3H-aBR"
      },
      "source": [
        "## 2. Procedimentos\n",
        "\n",
        "### 2.1. Leitura dos arquivos CSV\n",
        "Antes de importarmos os dados dentro das tabelas, precisamos começar lendo os arquivos CSV. O pequeno código abaixo importa os dados do CSV em uma lista de dicionários em Python."
      ]
    },
    {
      "cell_type": "code",
      "metadata": {
        "collapsed": true,
        "id": "7SGgJEFJ-aBS"
      },
      "source": [
        "import csv \n",
        "\n",
        "def importar_csv(arquivo):\n",
        "    dados = []\n",
        "    with open(arquivo) as arq:\n",
        "        leitor = csv.DictReader(arq)\n",
        "        for l in leitor:\n",
        "            dados.append(dict(l))\n",
        "    \n",
        "    print('O conjunto de dados tem %s registros.' % len(dados))\n",
        "    \n",
        "    return dados"
      ],
      "execution_count": 1,
      "outputs": []
    },
    {
      "cell_type": "markdown",
      "metadata": {
        "id": "7UCQZDtj-aBT"
      },
      "source": [
        "### TAREFA 01\n",
        "\n",
        "1. Importe o arquivo passagens.csv usando o mesmo código anterior.\n",
        "2. Atualize as partes contendo `...` com o que falta no seu código\n",
        "\n",
        "**DICA**: Não reinvente a roda, reutilize a função anterior."
      ]
    },
    {
      "cell_type": "code",
      "metadata": {
        "id": "XZK1gFW0-aBU",
        "outputId": "5f5cd981-7e40-4cb2-a887-926e8e05dde1",
        "colab": {
          "base_uri": "https://localhost:8080/"
        }
      },
      "source": [
        "# Insira seu código aqui\n",
        "passagens = importar_csv('passagens.csv')"
      ],
      "execution_count": 34,
      "outputs": [
        {
          "output_type": "stream",
          "text": [
            "O conjunto de dados tem 891 registros.\n"
          ],
          "name": "stdout"
        }
      ]
    },
    {
      "cell_type": "markdown",
      "metadata": {
        "id": "lT4IjaV7-aBU"
      },
      "source": [
        "### TAREFA 02\n",
        "1. Importe o arquivo passageiros.csv usando o mesmo código anterior."
      ]
    },
    {
      "cell_type": "code",
      "metadata": {
        "collapsed": true,
        "id": "xvH1cgD8-aBU",
        "outputId": "45d0a76c-9732-4f3f-cec4-f91c0c67ac5d",
        "colab": {
          "base_uri": "https://localhost:8080/"
        }
      },
      "source": [
        "# Insira seu código aqui\n",
        "passageiros = importar_csv('passageiros.csv')"
      ],
      "execution_count": 35,
      "outputs": [
        {
          "output_type": "stream",
          "text": [
            "O conjunto de dados tem 891 registros.\n"
          ],
          "name": "stdout"
        }
      ]
    },
    {
      "cell_type": "markdown",
      "metadata": {
        "id": "Fn4Zqj3--aBV"
      },
      "source": [
        "### 2.2. Criando o banco de dados\n",
        "Para manipular um banco SQLite com Python, temos que utilizar uma biblioteca específica."
      ]
    },
    {
      "cell_type": "code",
      "metadata": {
        "collapsed": true,
        "id": "1ivxsfuu-aBW"
      },
      "source": [
        "import sqlite3\n",
        "conn = sqlite3.connect('titanic.db')"
      ],
      "execution_count": 32,
      "outputs": []
    },
    {
      "cell_type": "markdown",
      "metadata": {
        "id": "Z-wP_hDL-aBX"
      },
      "source": [
        "O comando acima cria o arquivo [titanic.db](titanic.db), que armazará nossos dados."
      ]
    },
    {
      "cell_type": "markdown",
      "metadata": {
        "id": "02o2pElY-aBY"
      },
      "source": [
        "### 2.3. Criando as tabelas\n",
        "Neste momento, temos do dados e o banco SQLlite. Então é hora de começar à usar comandos SQL para criar as tabelas que armazenarão nossos dados dentro do banco.\n",
        "\n",
        "No SQLlite, precisamos primeiro criar uma conexão e um cursor para executar nossos comandos no banco. Para facilicar, o código abaixo facilita este processo. Você só precisa passar seu comando SQL para a função."
      ]
    },
    {
      "cell_type": "code",
      "metadata": {
        "collapsed": true,
        "id": "1tMnfSvl-aBY"
      },
      "source": [
        "def executa(comando):\n",
        "    cursor = conn.cursor()\n",
        "    cursor.execute(comando)\n",
        "    cursor.close()"
      ],
      "execution_count": 36,
      "outputs": []
    },
    {
      "cell_type": "markdown",
      "metadata": {
        "id": "8htp-tiT-aBZ"
      },
      "source": [
        "Não execute o comando abaixo, pois ele dá um erro. É só um exemplo"
      ]
    },
    {
      "cell_type": "code",
      "metadata": {
        "collapsed": true,
        "id": "O1zWdTHh-aBZ"
      },
      "source": [
        "# Exemplo\n",
        "#comando = '<SEU_COMANDO_AQUI>'\n",
        "#executa(comando)"
      ],
      "execution_count": null,
      "outputs": []
    },
    {
      "cell_type": "markdown",
      "metadata": {
        "id": "uBB3LxsD-aBa"
      },
      "source": [
        "### TAREFA 03\n",
        "1. Cria a tabela passageiros.\n",
        "2. PassengerId deve ser a chave primária.\n",
        "3. Atualize as partes contendo `...` com o que falta no seu código"
      ]
    },
    {
      "cell_type": "code",
      "metadata": {
        "collapsed": true,
        "id": "-_ueE0pS-aBa"
      },
      "source": [
        "# Insira seu código aqui\n",
        "tabela_passageiros_comando = \"\"\"\n",
        "CREATE TABLE passageiros(PassengerId INTEGER NOT NULL PRIMARY KEY, Survived INTEGER NOT NULL, Pclass INTEGER NOT NULL, Name VARCHAR(200), Sex VARCHAR(20), Age INTEGER, SibSp INTEGER, Parch INTEGER);\n",
        "\"\"\""
      ],
      "execution_count": 37,
      "outputs": []
    },
    {
      "cell_type": "code",
      "metadata": {
        "collapsed": true,
        "id": "Qa4gyxNi-aBb"
      },
      "source": [
        "executa(tabela_passageiros_comando)"
      ],
      "execution_count": 38,
      "outputs": []
    },
    {
      "cell_type": "markdown",
      "metadata": {
        "id": "jTsHM5dk-aBb"
      },
      "source": [
        "### TAREFA 04\n",
        "1. Cria a tabela passagens.\n",
        "2. PassengerId deve ser a chave primária.\n",
        "3. Atualize as partes contendo `...` com o que falta no seu código"
      ]
    },
    {
      "cell_type": "code",
      "metadata": {
        "collapsed": true,
        "id": "XBUiwucm-aBb"
      },
      "source": [
        "# Insira seu código aqui\n",
        "tabela_passagens_comando = \"\"\"\n",
        "CREATE TABLE passagens(PassengerId INTEGER NOT NULL PRIMARY KEY, Ticket VARCHAR(200), Fare DECIMAL(9,2), Cabin VARCHAR(20), Embarked VARCHAR(5));\n",
        "\"\"\"\n"
      ],
      "execution_count": 39,
      "outputs": []
    },
    {
      "cell_type": "code",
      "metadata": {
        "collapsed": true,
        "id": "_Iaj-0rd-aBc"
      },
      "source": [
        "executa(tabela_passagens_comando)"
      ],
      "execution_count": 40,
      "outputs": []
    },
    {
      "cell_type": "markdown",
      "metadata": {
        "id": "MdaX_icF-aBc"
      },
      "source": [
        "**Atenção:** Caso você tente executar os comandos de criação de tabelas mais de uma vez, perceberá um erro de operação informando que a tabela já existe.\n",
        "\n",
        "Vamos verificar se as tabelas foram realmente criadas? Abra o terminal e na pasta atual digite:\n",
        "```\n",
        "$ sqlite3 titanic.db \".tables\"\n",
        "```\n",
        "O terminal deve retornar com as tabelas existentes em seu banco [titanic.db](titanic.db). Neste casos, *passageiros* e *passagens*. Lembre-se que neste momento, não temos nenhum dado inseridos nas tabelas.\n",
        "\n",
        "Caso queira verifcar mais algumas informações das tabelas criadas, pode executar esta outra instrução:\n",
        "```\n",
        "$ sqlite3 titanic.db \"PRAGMA table_info(passageiros)\"\n",
        "```"
      ]
    },
    {
      "cell_type": "markdown",
      "metadata": {
        "id": "OEkH8o2r-aBc"
      },
      "source": [
        "### TAREFA 05\n",
        "1. Pelo terminal, verifique mais informações da tabela passagens."
      ]
    },
    {
      "cell_type": "markdown",
      "metadata": {
        "id": "L_P1-m60-aBc"
      },
      "source": [
        "### 2.4. Inserindo dados nas tabelas\n",
        "Usando o comando INSERT INTO, vamos popular as nossas tabelas. O processo é simples, percorremos as listas de dicionários, montamos nosso comando INSERT INTO e executamos - uma a uma. Para a tabela passageiros:"
      ]
    },
    {
      "cell_type": "code",
      "metadata": {
        "collapsed": true,
        "id": "5Lp4LIAl-aBd"
      },
      "source": [
        "for p in passageiros:\n",
        "    p['Name'] = p['Name'].replace('\"', \"'\")\n",
        "    inserir_passageiro = (\"\"\"\n",
        "    INSERT INTO passageiros(PassengerId, Survived, Pclass, Name, Sex, Age, Sibsp, Parch)\n",
        "    VALUES (%s, \"%s\", \"%s\", \"%s\", \"%s\", \"%s\", \"%s\", \"%s\")\"\"\") % (p['PassengerId'], p['Survived'], p['Pclass'],\n",
        "                                                                 p['Name'], p['Sex'], p['Age'], p['SibSp'],\n",
        "                                                                 p['Parch'])\n",
        "    executa(inserir_passageiro)"
      ],
      "execution_count": 41,
      "outputs": []
    },
    {
      "cell_type": "markdown",
      "metadata": {
        "id": "8g__Oegj-aBd"
      },
      "source": [
        "### TAREFA 06\n",
        "1. Insira os dados de passagens dentro da tabela passagens"
      ]
    },
    {
      "cell_type": "code",
      "metadata": {
        "collapsed": true,
        "id": "bYf5qR-d-aBd"
      },
      "source": [
        "# Insira seu código aqui\n",
        "for p in passagens:\n",
        "    inserir_passagens = (\"\"\"\n",
        "    INSERT INTO passagens(PassengerId, Ticket, Fare, Cabin, Embarked)\n",
        "    VALUES (%s, \"%s\", \"%s\", \"%s\", \"%s\")\"\"\") % (p['PassengerId'], p['Ticket'], p['Fare'], p['Cabin'], p['Embarked'])\n",
        "    \n",
        "    executa(inserir_passagens)"
      ],
      "execution_count": 42,
      "outputs": []
    },
    {
      "cell_type": "markdown",
      "metadata": {
        "id": "-PdUyHK4-aBe"
      },
      "source": [
        "### 2.5. Executando consultas\n",
        "Agora que os dados estão inseridos no arquivo banco SQLite, vamos executar alguns consultas. Vamos começar fazendo uma seleção de todas as colunas das tabelas.\n",
        "\n",
        "O comando SELECT retorna dados, deste modo, precisamos fazer alguma alteração na função executa. utilize o *executa_consulta()*."
      ]
    },
    {
      "cell_type": "code",
      "metadata": {
        "collapsed": true,
        "id": "hz4t5bQS-aBe"
      },
      "source": [
        "def executa_consulta(consulta):\n",
        "    cursor = conn.cursor()\n",
        "    cursor.execute(consulta)\n",
        "    for linha in cursor.fetchall():\n",
        "        print(linha)\n",
        "    \n",
        "    cursor.close()"
      ],
      "execution_count": 43,
      "outputs": []
    },
    {
      "cell_type": "markdown",
      "metadata": {
        "id": "H4MuQzk--aBe"
      },
      "source": [
        "Testando nosso código. Repare que o comando LIMIT foi utilizado para limitar a quantidade de linhas."
      ]
    },
    {
      "cell_type": "code",
      "metadata": {
        "id": "dPBA1SMA-aBf",
        "outputId": "6b53089d-060a-426d-b262-dd0d6cf6deed",
        "colab": {
          "base_uri": "https://localhost:8080/"
        }
      },
      "source": [
        "consulta_passageiro = \"\"\"SELECT * FROM PASSAGEIROS LIMIT 10\"\"\"\n",
        "executa_consulta(consulta_passageiro)"
      ],
      "execution_count": 44,
      "outputs": [
        {
          "output_type": "stream",
          "text": [
            "(1, 0, 3, 'Braund, Mr. Owen Harris', 'male', 22, 1, 0)\n",
            "(2, 1, 1, 'Cumings, Mrs. John Bradley (Florence Briggs Thayer)', 'female', 38, 1, 0)\n",
            "(3, 1, 3, 'Heikkinen, Miss. Laina', 'female', 26, 0, 0)\n",
            "(4, 1, 1, 'Futrelle, Mrs. Jacques Heath (Lily May Peel)', 'female', 35, 1, 0)\n",
            "(5, 0, 3, 'Allen, Mr. William Henry', 'male', 35, 0, 0)\n",
            "(6, 0, 3, 'Moran, Mr. James', 'male', '', 0, 0)\n",
            "(7, 0, 1, 'McCarthy, Mr. Timothy J', 'male', 54, 0, 0)\n",
            "(8, 0, 3, 'Palsson, Master. Gosta Leonard', 'male', 2, 3, 1)\n",
            "(9, 1, 3, 'Johnson, Mrs. Oscar W (Elisabeth Vilhelmina Berg)', 'female', 27, 0, 2)\n",
            "(10, 1, 2, 'Nasser, Mrs. Nicholas (Adele Achem)', 'female', 14, 1, 0)\n"
          ],
          "name": "stdout"
        }
      ]
    },
    {
      "cell_type": "code",
      "metadata": {
        "collapsed": true,
        "id": "pEYYeRNu-aBf",
        "outputId": "e583f13e-b90a-4b6c-f9f5-988fdf79ee85",
        "colab": {
          "base_uri": "https://localhost:8080/"
        }
      },
      "source": [
        "consulta_passagens = \"\"\"SELECT * FROM PASSAGENS LIMIT 10\"\"\"\n",
        "executa_consulta(consulta_passagens)"
      ],
      "execution_count": 45,
      "outputs": [
        {
          "output_type": "stream",
          "text": [
            "(1, 'A/5 21171', 7.25, '', 'S')\n",
            "(2, 'PC 17599', 71.2833, 'C85', 'C')\n",
            "(3, 'STON/O2. 3101282', 7925, '', 'S')\n",
            "(4, '113803', 53.1, 'C123', 'S')\n",
            "(5, '373450', 8.05, '', 'S')\n",
            "(6, '330877', 8.4583, '', 'Q')\n",
            "(7, '17463', 51.8625, 'E46', 'S')\n",
            "(8, '349909', 21075, '', 'S')\n",
            "(9, '347742', 11.1333, '', 'S')\n",
            "(10, '237736', 30.0708, '', 'C')\n"
          ],
          "name": "stdout"
        }
      ]
    },
    {
      "cell_type": "markdown",
      "metadata": {
        "id": "HpssgGia-aBf"
      },
      "source": [
        "Também podemos imprimir mais informações sobre uma tabela usando o seguinte comando:"
      ]
    },
    {
      "cell_type": "code",
      "metadata": {
        "collapsed": true,
        "id": "xJAisqK0-aBf",
        "outputId": "bf40bfd2-89f1-4bae-b5e1-06e3677cfba2",
        "colab": {
          "base_uri": "https://localhost:8080/"
        }
      },
      "source": [
        "executa_consulta('pragma table_info(passageiros)')"
      ],
      "execution_count": 46,
      "outputs": [
        {
          "output_type": "stream",
          "text": [
            "(0, 'PassengerId', 'INTEGER', 1, None, 1)\n",
            "(1, 'Survived', 'INTEGER', 1, None, 0)\n",
            "(2, 'Pclass', 'INTEGER', 1, None, 0)\n",
            "(3, 'Name', 'VARCHAR(200)', 0, None, 0)\n",
            "(4, 'Sex', 'VARCHAR(20)', 0, None, 0)\n",
            "(5, 'Age', 'INTEGER', 0, None, 0)\n",
            "(6, 'SibSp', 'INTEGER', 0, None, 0)\n",
            "(7, 'Parch', 'INTEGER', 0, None, 0)\n"
          ],
          "name": "stdout"
        }
      ]
    },
    {
      "cell_type": "markdown",
      "metadata": {
        "id": "vuMjBg8S-aBg"
      },
      "source": [
        "### TAREFA 07\n",
        "1. Verifique quantos tipos de classe (PClass) existem na tabela passageiros."
      ]
    },
    {
      "cell_type": "code",
      "metadata": {
        "id": "nKCwiArj-aBg",
        "outputId": "f4169466-34bd-435c-e335-ca2316e57e30",
        "colab": {
          "base_uri": "https://localhost:8080/"
        }
      },
      "source": [
        "# Insira seu código aqui\n",
        "consulta = \"\"\"SELECT DISTINCT PClass FROM passageiros\"\"\"\n",
        "executa_consulta(consulta)"
      ],
      "execution_count": 58,
      "outputs": [
        {
          "output_type": "stream",
          "text": [
            "(3,)\n",
            "(1,)\n",
            "(2,)\n"
          ],
          "name": "stdout"
        }
      ]
    },
    {
      "cell_type": "markdown",
      "metadata": {
        "id": "UTr3BNiY-aBg"
      },
      "source": [
        "### TAREFA 08\n",
        "1. Selecione os passageiros do sexo masculino (Sex) e que estejam na segunda classe (PClass).\n",
        "\n",
        "**DICA**: Use a cláusula WHERE e uma condicional (AND ou OR)."
      ]
    },
    {
      "cell_type": "code",
      "metadata": {
        "id": "994GOIS_-aBg",
        "outputId": "ee8f845c-ae95-4300-fb3b-288f656f2d5e",
        "colab": {
          "base_uri": "https://localhost:8080/"
        }
      },
      "source": [
        "# Insira seu código aqui\n",
        "consulta = \"\"\"SELECT Name FROM PASSAGEIROS WHERE Sex='male' and PClass=2\"\"\"\n",
        "executa_consulta(consulta)"
      ],
      "execution_count": 65,
      "outputs": [
        {
          "output_type": "stream",
          "text": [
            "('Williams, Mr. Charles Eugene',)\n",
            "('Fynney, Mr. Joseph J',)\n",
            "('Beesley, Mr. Lawrence',)\n",
            "('Wheadon, Mr. Edward H',)\n",
            "('Jenkin, Mr. Stephen Curnow',)\n",
            "('Hood, Mr. Ambrose Jr',)\n",
            "('Caldwell, Master. Alden Gates',)\n",
            "('Kantor, Mr. Sinai',)\n",
            "('Turpin, Mr. William John Robert',)\n",
            "('Hickman, Mr. Stanley George',)\n",
            "('Nasser, Mr. Nicholas',)\n",
            "('Sobey, Mr. Samuel James Hayden',)\n",
            "('Richard, Mr. Emile',)\n",
            "('Andrew, Mr. Edgardo Samuel',)\n",
            "('Nicholls, Mr. Joseph Charles',)\n",
            "(\"Navratil, Mr. Michel ('Louis M Hoffman')\",)\n",
            "('Byles, Rev. Thomas Roussel Davids',)\n",
            "('Bateman, Rev. Robert James',)\n",
            "('Hale, Mr. Reginald',)\n",
            "('Pernot, Mr. Rene',)\n",
            "('Becker, Master. Richard F',)\n",
            "('Carbines, Mr. William',)\n",
            "('Navratil, Master. Michel M',)\n",
            "('Givard, Mr. Hans Kristensen',)\n",
            "('Jacobsohn, Mr. Sidney Samuel',)\n",
            "('Harris, Mr. Walter',)\n",
            "('Bracken, Mr. James H',)\n",
            "('Mellors, Mr. William John',)\n",
            "('Fahlstrom, Mr. Arne Jonas',)\n",
            "('Sjostedt, Mr. Ernst Adolf',)\n",
            "('Leyson, Mr. Robert William Norman',)\n",
            "('Hold, Mr. Stephen',)\n",
            "('Pengelly, Mr. Frederick William',)\n",
            "('Hunt, Mr. George Henry',)\n",
            "('Coleridge, Mr. Reginald Charles',)\n",
            "('Carter, Rev. Ernest Courtenay',)\n",
            "('Reeves, Mr. David',)\n",
            "(\"Parkes, Mr. Francis 'Frank'\",)\n",
            "('Hosono, Mr. Masabumi',)\n",
            "('Levy, Mr. Rene Jacques',)\n",
            "('Abelson, Mr. Samuel',)\n",
            "('Hart, Mr. Benjamin',)\n",
            "('Moraweck, Dr. Ernest',)\n",
            "('Navratil, Master. Edmond Roger',)\n",
            "('Collander, Mr. Erik Gustaf',)\n",
            "('Sedgwick, Mr. Charles Frederick Waddington',)\n",
            "('Fox, Mr. Stanley Hubert',)\n",
            "('del Carlo, Mr. Sebastiano',)\n",
            "('Davies, Mr. Charles Henry',)\n",
            "('McKane, Mr. Peter David',)\n",
            "('Pain, Dr. Alfred',)\n",
            "('Gale, Mr. Shadrach',)\n",
            "('Richards, Master. William Rowe',)\n",
            "('Cunningham, Mr. Alfred Fleming',)\n",
            "('Matthews, Mr. William John',)\n",
            "('Kvillner, Mr. Johan Henrik Johannesson',)\n",
            "('West, Mr. Edwy Arthur',)\n",
            "('Milling, Mr. Jacob Christian',)\n",
            "('Campbell, Mr. William',)\n",
            "('Renouf, Mr. Peter Henry',)\n",
            "(\"Frost, Mr. Anthony Wood 'Archie'\",)\n",
            "('Hocking, Mr. Richard George',)\n",
            "('Beane, Mr. Edward',)\n",
            "('Padro y Manent, Mr. Julian',)\n",
            "('Davies, Master. John Morgan Jr',)\n",
            "('Sharp, Mr. Percival James R',)\n",
            "('Norman, Mr. Robert Douglas',)\n",
            "('Harris, Mr. George',)\n",
            "('Downton, Mr. William James',)\n",
            "('Jarvis, Mr. John Denzil',)\n",
            "('Chapman, Mr. John Henry',)\n",
            "('Gavey, Mr. Lawrence',)\n",
            "('Kirkland, Rev. Charles Leonard',)\n",
            "('Collyer, Mr. Harvey',)\n",
            "('Hickman, Mr. Leonard Mark',)\n",
            "('Eitemiller, Mr. George Floyd',)\n",
            "('Hickman, Mr. Lewis',)\n",
            "('Butler, Mr. Reginald Fenton',)\n",
            "('Mitchell, Mr. Henry Michael',)\n",
            "('Wilhelms, Mr. Charles',)\n",
            "('Watson, Mr. Ennis Hastings',)\n",
            "('Brown, Mr. Thomas William Solomon',)\n",
            "('Laroche, Mr. Joseph Philippe Lemercier',)\n",
            "('Chapman, Mr. Charles Henry',)\n",
            "(\"Morley, Mr. Henry Samuel ('Mr Henry Marshall')\",)\n",
            "('Greenberg, Mr. Samuel',)\n",
            "('Gillespie, Mr. William Henry',)\n",
            "('Hodges, Mr. Henry Price',)\n",
            "('Bryhl, Mr. Kurt Arnold Gottfrid',)\n",
            "('Knight, Mr. Robert J',)\n",
            "('Berriman, Mr. William John',)\n",
            "('Troupiansky, Mr. Moses Aaron',)\n",
            "('Hamalainen, Master. Viljo',)\n",
            "('Bailey, Mr. Percy Andrew',)\n",
            "('Gaskell, Mr. Alfred',)\n",
            "('Otter, Mr. Richard',)\n",
            "('Ponesell, Mr. Martin',)\n",
            "('Meyer, Mr. August',)\n",
            "('Slemen, Mr. Richard James',)\n",
            "('Mallet, Mr. Albert',)\n",
            "('Mallet, Master. Andre',)\n",
            "('Richards, Master. George Sibley',)\n",
            "('Mudd, Mr. Thomas Charles',)\n",
            "('Harper, Rev. John',)\n",
            "('Giles, Mr. Frederick Edward',)\n",
            "('Gill, Mr. John William',)\n",
            "('Banfield, Mr. Frederick James',)\n",
            "('Montvila, Rev. Juozas',)\n"
          ],
          "name": "stdout"
        }
      ]
    },
    {
      "cell_type": "markdown",
      "metadata": {
        "id": "Rn_7EqLC-aBh"
      },
      "source": [
        "### TAREFA 09\n",
        "1. Conte quantos passageiros existem por sexo.\n",
        "\n",
        "**DICA**: Use GROUP BY e COUNT()."
      ]
    },
    {
      "cell_type": "code",
      "metadata": {
        "id": "i5hEob7l-aBh",
        "outputId": "02e3a637-0105-4754-f642-d36a4975103d",
        "colab": {
          "base_uri": "https://localhost:8080/"
        }
      },
      "source": [
        "# Insira seu código aqui\n",
        "consulta = \"\"\"SELECT Sex, count() FROM passageiros GROUP BY Sex\"\"\"\n",
        "executa_consulta(consulta)"
      ],
      "execution_count": 68,
      "outputs": [
        {
          "output_type": "stream",
          "text": [
            "('female', 314)\n",
            "('male', 577)\n"
          ],
          "name": "stdout"
        }
      ]
    },
    {
      "cell_type": "markdown",
      "metadata": {
        "id": "gB98DKHy-aBh"
      },
      "source": [
        "### TAREFA 10\n",
        "1. Verifique o valor médio das passagens em cada porto de embarque\n",
        "\n",
        "**DICA**: Use GROUP BY e AVG(). A presença de valores missing pode apresentar alguns resultados estranhos."
      ]
    },
    {
      "cell_type": "code",
      "metadata": {
        "id": "XyAu79vf-aBh",
        "outputId": "080e585f-ed69-4152-e091-40ceca2c7085",
        "colab": {
          "base_uri": "https://localhost:8080/"
        }
      },
      "source": [
        "# Insira seu código aqui\n",
        "consulta = \"\"\"SELECT AVG(Fare) FROM passagens GROUP BY Embarked \"\"\"\n",
        "executa_consulta(consulta)"
      ],
      "execution_count": 96,
      "outputs": [
        {
          "output_type": "stream",
          "text": [
            "(80.0,)\n",
            "(12709.34566190476,)\n",
            "(2002.8429129870128,)\n",
            "(2015.3069857142902,)\n"
          ],
          "name": "stdout"
        }
      ]
    },
    {
      "cell_type": "markdown",
      "metadata": {
        "id": "FXPLfL2_-aBi"
      },
      "source": [
        "### TAREFA 11\n",
        "1. Selecione o nome (Name), sexo(Sex) e tarifa(Fare) paga de 5 passageiros\n",
        "2. Utilize as tabelas passageiros e passagens.\n",
        "\n",
        "**DICA**: Use JOIN."
      ]
    },
    {
      "cell_type": "code",
      "metadata": {
        "id": "WQGkJmP6-aBi",
        "outputId": "fd66a7ff-56ea-4677-b490-179f2c9063fd",
        "colab": {
          "base_uri": "https://localhost:8080/"
        }
      },
      "source": [
        "# Insira seu código aqui\n",
        "# Insira seu código aqui\n",
        "consulta = \"\"\"SELECT passageiros.Name, passageiros.Sex, passagens.Fare FROM passageiros INNER JOIN passagens ON passagens.Fare LIMIT 5\"\"\"\n",
        "executa_consulta(consulta)"
      ],
      "execution_count": 97,
      "outputs": [
        {
          "output_type": "stream",
          "text": [
            "('Braund, Mr. Owen Harris', 'male', 7.25)\n",
            "('Cumings, Mrs. John Bradley (Florence Briggs Thayer)', 'female', 7.25)\n",
            "('Heikkinen, Miss. Laina', 'female', 7.25)\n",
            "('Futrelle, Mrs. Jacques Heath (Lily May Peel)', 'female', 7.25)\n",
            "('Allen, Mr. William Henry', 'male', 7.25)\n"
          ],
          "name": "stdout"
        }
      ]
    },
    {
      "cell_type": "markdown",
      "metadata": {
        "id": "gC13Dzrw-aBj"
      },
      "source": [
        "### TAREFA 12\n",
        "1. Selecione o valor máximo (Fare) das passagens por classe."
      ]
    },
    {
      "cell_type": "code",
      "metadata": {
        "id": "MZNL0Tbf-aBj",
        "outputId": "bf835c2d-0b00-4c8b-ea94-e74767ab9033",
        "colab": {
          "base_uri": "https://localhost:8080/"
        }
      },
      "source": [
        "# Insira seu código aqui\n",
        "consulta = \"\"\"SELECT MAX(passagens.Fare), passageiros.PClass FROM passagens INNER JOIN passageiros Group BY PClass\"\"\"\n",
        "executa_consulta(consulta)"
      ],
      "execution_count": 108,
      "outputs": [
        {
          "output_type": "stream",
          "text": [
            "(262375, 1)\n",
            "(262375, 2)\n",
            "(262375, 3)\n"
          ],
          "name": "stdout"
        }
      ]
    },
    {
      "cell_type": "markdown",
      "metadata": {
        "id": "Ov58ZlDH-aBj"
      },
      "source": [
        "### TAREFA 13\n",
        "1. Descubra quantas pessoas embarcaram por porto\n",
        "2. Agrupando por porto e sexo."
      ]
    },
    {
      "cell_type": "code",
      "metadata": {
        "id": "4O6eWIrf-aBj",
        "outputId": "e3cbed48-3c2b-4154-be3c-de68efbb5b9e",
        "colab": {
          "base_uri": "https://localhost:8080/"
        }
      },
      "source": [
        "# Insira seu código aqui\n",
        "consulta = \"\"\" SELECT passagens.Embarked, count(passageiros.Sex), passageiros.Sex FROM passagens INNER JOIN passageiros GROUP BY Sex, Embarked  \"\"\"\n",
        "executa_consulta(consulta)"
      ],
      "execution_count": 114,
      "outputs": [
        {
          "output_type": "stream",
          "text": [
            "('', 628, 'female')\n",
            "('C', 52752, 'female')\n",
            "('Q', 24178, 'female')\n",
            "('S', 202216, 'female')\n",
            "('', 1154, 'male')\n",
            "('C', 96936, 'male')\n",
            "('Q', 44429, 'male')\n",
            "('S', 371588, 'male')\n"
          ],
          "name": "stdout"
        }
      ]
    },
    {
      "cell_type": "markdown",
      "metadata": {
        "id": "gAtqglX1-aBk"
      },
      "source": [
        "## 3. Conclusão\n",
        "\n",
        "A quantidade de consultas e a lista de comandos SQL é enorme. A interação foi somente relembrar alguns comandos básicos para que você se sinta confortável para explorar qualquer banco de dados SQL que você encontrar.\n"
      ]
    },
    {
      "cell_type": "markdown",
      "metadata": {
        "id": "T-HMDHa3-aBk"
      },
      "source": [
        "### Awari -  <a href=\"https://awari.com.br/\"> awari.com.br</a>"
      ]
    }
  ]
}